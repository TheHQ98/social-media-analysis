{
 "cells": [
  {
   "cell_type": "code",
   "id": "initial_id",
   "metadata": {
    "collapsed": true,
    "ExecuteTime": {
     "end_time": "2025-05-11T09:36:38.855489Z",
     "start_time": "2025-05-11T09:36:38.199118Z"
    }
   },
   "source": [
    "import requests, pandas as pd, matplotlib.pyplot as plt\n",
    "import numpy as np\n",
    "from ipywidgets import SelectMultiple, interact, Dropdown"
   ],
   "outputs": [],
   "execution_count": 1
  },
  {
   "metadata": {
    "ExecuteTime": {
     "end_time": "2025-05-11T09:36:40.123364Z",
     "start_time": "2025-05-11T09:36:40.120966Z"
    }
   },
   "cell_type": "code",
   "source": [
    "# kubectl port-forward svc/router 8888:80 -n fission\n",
    "BASE_URL = \"http://127.0.0.1:8888/data-filter\""
   ],
   "id": "a6b2b9abd1233f13",
   "outputs": [],
   "execution_count": 2
  },
  {
   "metadata": {
    "ExecuteTime": {
     "end_time": "2025-05-11T09:36:40.878591Z",
     "start_time": "2025-05-11T09:36:40.875243Z"
    }
   },
   "cell_type": "code",
   "source": [
    "payload = {\n",
    "    \"content\": [\n",
    "        \"cost\", \"rent\", \"price\", \"grocery\", \"transport\", \"bill\", \"living\", \"wage\", \"income\", \"expensive\", \"afford\",\n",
    "        \"renting\", \"apartment\", \"real estate\", \"landlord\", \"tenant\", \"lease\", \"mortgage\", \"housing\", \"electricity\",\n",
    "        \"gas\", \"water\", \"utility\", \"power bill\", \"food\", \"meal\", \"dining\", \"supermarket\", \"shopping\", \"financial\",\n",
    "        \"budget\", \"ripoff\", \"overpriced\", \"cheapest\", \"cheaper\", \"cheap\", \"struggle\", \"student loan\", \"university\",\n",
    "        \"school\", \"tuition\", \"doctor\", \"hospital\", \"medicare\", \"insurance\", \"healthcare\", \"uber\", \"taxi\",\n",
    "        \"public transport\", \"car\", \"petrol\", \"fuel\"],\n",
    "    \"tags\":     [],\n",
    "    \"keywords\": [\"brisbane\", \"melbourne\", \"sydney\", \"perth\", \"adelaide\"],\n",
    "    \"combine\":  \"and\",\n",
    "    \"size\":     10000,\n",
    "    \"max_docs\": 500000,\n",
    "    \"date_range\": {\n",
    "        \"from\": \"01-01-2023\",\n",
    "        \"to\":   \"31-12-2026\"\n",
    "    }\n",
    "}"
   ],
   "id": "cfd99d1ee4edd914",
   "outputs": [],
   "execution_count": 3
  },
  {
   "metadata": {
    "ExecuteTime": {
     "end_time": "2025-05-11T09:36:49.976109Z",
     "start_time": "2025-05-11T09:36:41.805515Z"
    }
   },
   "cell_type": "code",
   "source": [
    "resp = requests.post(BASE_URL, json=payload, timeout=120)\n",
    "resp.raise_for_status()\n",
    "\n",
    "data = resp.json()\n",
    "print(\"Total hits:\", data[\"total\"])\n",
    "\n",
    "docs = resp.json()[\"data\"]\n",
    "records = []\n",
    "for d in docs:\n",
    "    record = {\n",
    "        \"sentiment\": d.get(\"sentiment\"),\n",
    "        \"platform\": d.get(\"platform\"),\n",
    "        \"_id\": d.get(\"_id\"),\n",
    "        \"sentimentLabel\": d.get(\"sentimentLabel\"),\n",
    "        \"keywords\": d.get(\"keywords\"),\n",
    "        \"tags\": d.get(\"data\", {}).get(\"tags\"),\n",
    "        \"createdAt\": d.get(\"data\", {}).get(\"createdAt\"),\n",
    "    }\n",
    "    records.append(record)\n",
    "df = pd.DataFrame(records)\n",
    "\n",
    "df[\"createdAt\"] = df[\"createdAt\"].str.replace(r\"Z$\", \"\", regex=True)\n",
    "df[\"createdAt\"] = pd.to_datetime(\n",
    "    df[\"createdAt\"],\n",
    "    utc=True,\n",
    "    errors=\"raise\",\n",
    "    format=\"ISO8601\"\n",
    ")\n",
    "\n",
    "df[\"month\"] = (\n",
    "    df[\"createdAt\"]\n",
    "      .dt.tz_convert(None)\n",
    "      .dt.to_period(\"M\")\n",
    ")\n",
    "\n",
    "df.head()"
   ],
   "id": "b358527a83a50f60",
   "outputs": [
    {
     "name": "stdout",
     "output_type": "stream",
     "text": [
      "Total hits: 11390\n"
     ]
    },
    {
     "data": {
      "text/plain": [
       "   sentiment platform                    _id sentimentLabel  \\\n",
       "0     0.7088  Bluesky  bluesky_3lov5mujmms2r       positive   \n",
       "1     0.4033  Bluesky  bluesky_3lov4agmhjc2c       positive   \n",
       "2     0.0000  Bluesky  bluesky_3lov3tibxzs2p        neutral   \n",
       "3     0.0762  Bluesky  bluesky_3lov2kj7stc2a       positive   \n",
       "4     0.0772  Bluesky  bluesky_3louzs5wokc2l       positive   \n",
       "\n",
       "                                      keywords         tags  \\\n",
       "0       [sydney, event, ancient, relic, promo]     [sydney]   \n",
       "1           [paris, london, nyc, sydney, june]     [sydney]   \n",
       "2   [visiting, food, melbourne, decent, greek]  [melbourne]   \n",
       "3   [melbourne, woolen, cost, winterish, wear]  [melbourne]   \n",
       "4  [melbourne, degrees, december, water, rain]  [melbourne]   \n",
       "\n",
       "                         createdAt    month  \n",
       "0 2025-05-11 09:33:50.820000+00:00  2025-05  \n",
       "1 2025-05-11 09:08:59.840000+00:00  2025-05  \n",
       "2 2025-05-11 09:01:45.382000+00:00  2025-05  \n",
       "3 2025-05-11 08:38:50.633000+00:00  2025-05  \n",
       "4 2025-05-11 08:25:13.494000+00:00  2025-05  "
      ],
      "text/html": [
       "<div>\n",
       "<style scoped>\n",
       "    .dataframe tbody tr th:only-of-type {\n",
       "        vertical-align: middle;\n",
       "    }\n",
       "\n",
       "    .dataframe tbody tr th {\n",
       "        vertical-align: top;\n",
       "    }\n",
       "\n",
       "    .dataframe thead th {\n",
       "        text-align: right;\n",
       "    }\n",
       "</style>\n",
       "<table border=\"1\" class=\"dataframe\">\n",
       "  <thead>\n",
       "    <tr style=\"text-align: right;\">\n",
       "      <th></th>\n",
       "      <th>sentiment</th>\n",
       "      <th>platform</th>\n",
       "      <th>_id</th>\n",
       "      <th>sentimentLabel</th>\n",
       "      <th>keywords</th>\n",
       "      <th>tags</th>\n",
       "      <th>createdAt</th>\n",
       "      <th>month</th>\n",
       "    </tr>\n",
       "  </thead>\n",
       "  <tbody>\n",
       "    <tr>\n",
       "      <th>0</th>\n",
       "      <td>0.7088</td>\n",
       "      <td>Bluesky</td>\n",
       "      <td>bluesky_3lov5mujmms2r</td>\n",
       "      <td>positive</td>\n",
       "      <td>[sydney, event, ancient, relic, promo]</td>\n",
       "      <td>[sydney]</td>\n",
       "      <td>2025-05-11 09:33:50.820000+00:00</td>\n",
       "      <td>2025-05</td>\n",
       "    </tr>\n",
       "    <tr>\n",
       "      <th>1</th>\n",
       "      <td>0.4033</td>\n",
       "      <td>Bluesky</td>\n",
       "      <td>bluesky_3lov4agmhjc2c</td>\n",
       "      <td>positive</td>\n",
       "      <td>[paris, london, nyc, sydney, june]</td>\n",
       "      <td>[sydney]</td>\n",
       "      <td>2025-05-11 09:08:59.840000+00:00</td>\n",
       "      <td>2025-05</td>\n",
       "    </tr>\n",
       "    <tr>\n",
       "      <th>2</th>\n",
       "      <td>0.0000</td>\n",
       "      <td>Bluesky</td>\n",
       "      <td>bluesky_3lov3tibxzs2p</td>\n",
       "      <td>neutral</td>\n",
       "      <td>[visiting, food, melbourne, decent, greek]</td>\n",
       "      <td>[melbourne]</td>\n",
       "      <td>2025-05-11 09:01:45.382000+00:00</td>\n",
       "      <td>2025-05</td>\n",
       "    </tr>\n",
       "    <tr>\n",
       "      <th>3</th>\n",
       "      <td>0.0762</td>\n",
       "      <td>Bluesky</td>\n",
       "      <td>bluesky_3lov2kj7stc2a</td>\n",
       "      <td>positive</td>\n",
       "      <td>[melbourne, woolen, cost, winterish, wear]</td>\n",
       "      <td>[melbourne]</td>\n",
       "      <td>2025-05-11 08:38:50.633000+00:00</td>\n",
       "      <td>2025-05</td>\n",
       "    </tr>\n",
       "    <tr>\n",
       "      <th>4</th>\n",
       "      <td>0.0772</td>\n",
       "      <td>Bluesky</td>\n",
       "      <td>bluesky_3louzs5wokc2l</td>\n",
       "      <td>positive</td>\n",
       "      <td>[melbourne, degrees, december, water, rain]</td>\n",
       "      <td>[melbourne]</td>\n",
       "      <td>2025-05-11 08:25:13.494000+00:00</td>\n",
       "      <td>2025-05</td>\n",
       "    </tr>\n",
       "  </tbody>\n",
       "</table>\n",
       "</div>"
      ]
     },
     "execution_count": 4,
     "metadata": {},
     "output_type": "execute_result"
    }
   ],
   "execution_count": 4
  },
  {
   "metadata": {
    "ExecuteTime": {
     "end_time": "2025-05-11T09:36:54.016737Z",
     "start_time": "2025-05-11T09:36:53.854997Z"
    }
   },
   "cell_type": "code",
   "source": [
    "cities = [\"brisbane\", \"melbourne\", \"sydney\", \"perth\", \"adelaide\"]\n",
    "df_exp = df.explode(\"keywords\")\n",
    "df_cities = df_exp[df_exp[\"keywords\"].isin(cities)]\n",
    "avg_sent = (\n",
    "    df_cities\n",
    "    .groupby(\"keywords\")[\"sentiment\"]\n",
    "    .mean()\n",
    "    .reindex(cities)\n",
    "    .sort_values(ascending=False)\n",
    ")\n",
    "\n",
    "plt.figure(figsize=(8, 5))\n",
    "avg_sent.plot(kind=\"bar\", edgecolor=\"k\")\n",
    "plt.title(\"Average Sentiment by City Keyword\")\n",
    "plt.xlabel(\"City\")\n",
    "plt.ylabel(\"Average Sentiment\")\n",
    "plt.xticks(rotation=0)\n",
    "plt.grid(axis=\"y\", linestyle=\"--\", alpha=0.4)\n",
    "plt.tight_layout()\n",
    "plt.show()"
   ],
   "id": "7d984e4f26b0ee7f",
   "outputs": [
    {
     "data": {
      "text/plain": [
       "<Figure size 800x500 with 1 Axes>"
      ],
      "image/png": "[encoded data removed]"
     },
     "metadata": {},
     "output_type": "display_data"
    }
   ],
   "execution_count": 5
  },
  {
   "metadata": {
    "ExecuteTime": {
     "end_time": "2025-05-11T09:36:54.709812Z",
     "start_time": "2025-05-11T09:36:54.526053Z"
    }
   },
   "cell_type": "code",
   "source": [
    "df_tags = df.explode(\"keywords\").copy()\n",
    "df_tags[\"keywords_lower\"] = df_tags[\"keywords\"].astype(str).str.lower()\n",
    "\n",
    "cities = ['perth', 'adelaide', 'melbourne', 'sydney', 'brisbane']\n",
    "city1_dd = Dropdown(options=cities, value='brisbane', description='City 1:')\n",
    "city2_dd = Dropdown(options=cities, value='melbourne', description='City 2:')\n",
    "\n",
    "@interact(city1=city1_dd, city2=city2_dd)\n",
    "def plot_two(city1, city2):\n",
    "    if city1 == city2:\n",
    "        print(\"Please Select two different cities\")\n",
    "        return\n",
    "\n",
    "    df_city_1  = df_tags[df_tags[\"keywords_lower\"] == city1]\n",
    "    df_city_2  = df_tags[df_tags[\"keywords_lower\"] == city2]\n",
    "\n",
    "    city_monthly_1 = (\n",
    "        df_city_1\n",
    "        .groupby(\"month\")[\"sentiment\"]\n",
    "        .mean()\n",
    "        .reset_index(name=\"avg_sentiment\")\n",
    "        .rename(columns={'avg_sentiment': city1})\n",
    "    )\n",
    "    city_monthly_2 = (\n",
    "        df_city_2\n",
    "        .groupby(\"month\")[\"sentiment\"]\n",
    "        .mean()\n",
    "        .reset_index(name=\"avg_sentiment\")\n",
    "        .rename(columns={'avg_sentiment': city2})\n",
    "    )\n",
    "\n",
    "    df_plot = (\n",
    "        city_monthly_1\n",
    "        .merge(city_monthly_2, on='month', how='outer')\n",
    "        .sort_values('month')\n",
    "        .reset_index(drop=True)\n",
    "    )\n",
    "\n",
    "    x     = np.arange(len(df_plot))\n",
    "    width = 0.35\n",
    "\n",
    "    fig, ax = plt.subplots(figsize=(9, 4))\n",
    "    ax.bar(x - width/2, df_plot[city1],  width, label=city1)\n",
    "    ax.bar(x + width/2, df_plot[city2],  width, label=city2)\n",
    "\n",
    "    ax.set_xlabel('Month')\n",
    "    ax.set_ylabel('Average sentiment')\n",
    "    ax.set_title('Monthly average sentiment by city')\n",
    "    ax.set_xticks(x)\n",
    "    ax.set_xticklabels(df_plot['month'].astype(str), rotation=45, ha='right')\n",
    "    ax.legend()\n",
    "    plt.tight_layout()\n",
    "    plt.show()"
   ],
   "id": "5cc639dfe2fb74e5",
   "outputs": [
    {
     "data": {
      "text/plain": [
       "interactive(children=(Dropdown(description='City 1:', index=4, options=('perth', 'adelaide', 'melbourne', 'syd…"
      ],
      "application/vnd.jupyter.widget-view+json": {
       "version_major": 2,
       "version_minor": 0,
       "model_id": "c828fe0830dd42c9a053be6e91d39711"
      }
     },
     "metadata": {},
     "output_type": "display_data"
    }
   ],
   "execution_count": 6
  },
  {
   "metadata": {},
   "cell_type": "code",
   "outputs": [],
   "execution_count": null,
   "source": "",
   "id": "2eaf314f5e3ff7eb"
  }
 ],
 "metadata": {
  "kernelspec": {
   "display_name": "Python 3",
   "language": "python",
   "name": "python3"
  },
  "language_info": {
   "codemirror_mode": {
    "name": "ipython",
    "version": 2
   },
   "file_extension": ".py",
   "mimetype": "text/x-python",
   "name": "python",
   "nbconvert_exporter": "python",
   "pygments_lexer": "ipython2",
   "version": "2.7.6"
  }
 },
 "nbformat": 4,
 "nbformat_minor": 5
}
