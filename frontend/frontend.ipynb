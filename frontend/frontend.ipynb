{
 "cells": [
  {
   "cell_type": "code",
   "id": "initial_id",
   "metadata": {
    "collapsed": true,
    "ExecuteTime": {
     "end_time": "2025-05-09T04:03:08.566644Z",
     "start_time": "2025-05-09T04:03:08.561658Z"
    }
   },
   "source": "import requests, pandas as pd, matplotlib.pyplot as plt",
   "outputs": [],
   "execution_count": 13
  },
  {
   "metadata": {
    "ExecuteTime": {
     "end_time": "2025-05-09T04:03:08.570928Z",
     "start_time": "2025-05-09T04:03:08.568969Z"
    }
   },
   "cell_type": "code",
   "source": "BASE_URL = \"http://127.0.0.1:8888/data-filter\"",
   "id": "a6b2b9abd1233f13",
   "outputs": [],
   "execution_count": 14
  },
  {
   "metadata": {
    "ExecuteTime": {
     "end_time": "2025-05-09T04:03:08.577022Z",
     "start_time": "2025-05-09T04:03:08.572293Z"
    }
   },
   "cell_type": "code",
   "source": [
    "payload = {\n",
    "    \"content\":  ['cost', 'rent', 'price', 'grocery', 'transport', 'bill', 'living', 'wage', 'income', 'expensive', 'afford', \"renting\", \"apartment\", \"real estate\", \"landlord\", \"tenant\", \"lease\", \"mortgage\", \"housing\", \"electricity\", \"gas\", \"water\", \"utility\", \"power bill\", \"food\", \"meal\", \"dining\", \"supermarket\", \"shopping\", \"financial\", \"budget\", \"ripoff\", \"overpriced\", \"cheapest\", \"cheaper\", \"cheap\", \"struggle\", \"student loan\", \"university\", \"school\", \"tuition\", \"doctor\", \"hospital\", \"medicare\", \"insurance\", \"healthcare\", \"uber\", \"taxi\", \"public transport\", \"car\", \"petrol\", \"fuel\"],   # data.content\n",
    "    \"tags\":     [],     # data.tags\n",
    "    \"keywords\": [],     # keywords\n",
    "    \"combine\":  \"or\",      # \"and\" | \"or\"\n",
    "    \"size\":     1000,\n",
    "    \"max_docs\": 200000       # maximum return data\n",
    "}"
   ],
   "id": "146fd36f4e11bd59",
   "outputs": [],
   "execution_count": 15
  },
  {
   "metadata": {
    "ExecuteTime": {
     "end_time": "2025-05-09T04:03:39.199169Z",
     "start_time": "2025-05-09T04:03:08.578045Z"
    }
   },
   "cell_type": "code",
   "source": [
    "resp = requests.post(BASE_URL, json=payload, timeout=120)\n",
    "resp.raise_for_status()\n",
    "\n",
    "data = resp.json()\n",
    "print(\"Total hits:\", data[\"total\"])"
   ],
   "id": "b358527a83a50f60",
   "outputs": [
    {
     "name": "stdout",
     "output_type": "stream",
     "text": [
      "命中总数: 200000\n"
     ]
    }
   ],
   "execution_count": 16
  },
  {
   "metadata": {
    "ExecuteTime": {
     "end_time": "2025-05-09T04:03:41.590348Z",
     "start_time": "2025-05-09T04:03:39.200567Z"
    }
   },
   "cell_type": "code",
   "source": [
    "docs = resp.json()[\"data\"]\n",
    "records = []\n",
    "for d in docs:\n",
    "    record = {\n",
    "        \"sentiment\": d.get(\"sentiment\"),\n",
    "        \"platform\": d.get(\"platform\"),\n",
    "        \"_id\": d.get(\"_id\"),\n",
    "        \"sentimentLabel\": d.get(\"sentimentLabel\"),\n",
    "        \"keywords\": d.get(\"keywords\"),\n",
    "        \"tags\": d.get(\"data\", {}).get(\"tags\"),\n",
    "        \"createdAt\": d.get(\"data\", {}).get(\"createdAt\"),\n",
    "    }\n",
    "    records.append(record)\n",
    "df = pd.DataFrame(records)\n",
    "df[\"createdAt\"] = (\n",
    "    df[\"createdAt\"]\n",
    "      .astype(str)\n",
    "      .str.replace(r\"\\+00:00Z$\", \"Z\", regex=True)\n",
    ")\n",
    "df.head()"
   ],
   "id": "81d21a7903696d2b",
   "outputs": [
    {
     "data": {
      "text/plain": [
       "   sentiment  platform                          _id sentimentLabel  \\\n",
       "0     0.0000  Mastodon  mastodon_114475881798616829        neutral   \n",
       "1     0.2023  Mastodon  mastodon_114475876145381210       positive   \n",
       "2    -0.2960  Mastodon  mastodon_114475873718679095       negative   \n",
       "3    -0.7003  Mastodon  mastodon_114475870703741074       negative   \n",
       "4     0.5338  Mastodon  mastodon_114475870148273793       positive   \n",
       "\n",
       "                                            keywords  \\\n",
       "0                     [npr, https, rfk, info, alana]   \n",
       "1       [sudan, khartoum, healthcare, msf, scale-up]   \n",
       "2           [common, french, commun, german, üblich]   \n",
       "3  [contaminated, sickening, history, outbreak, m...   \n",
       "4       [back, happy, companies, bringing, physical]   \n",
       "\n",
       "                                     tags             createdAt  \n",
       "0                                      []  2025-05-09T04:01:46Z  \n",
       "1                       [khartoum, sudan]  2025-05-09T04:00:45Z  \n",
       "2                                [common]  2025-05-09T04:00:08Z  \n",
       "3         [health, history, publichealth]  2025-05-09T03:59:12Z  \n",
       "4  [ergonomics, carplay, androidauto, ux]  2025-05-09T03:59:10Z  "
      ],
      "text/html": [
       "<div>\n",
       "<style scoped>\n",
       "    .dataframe tbody tr th:only-of-type {\n",
       "        vertical-align: middle;\n",
       "    }\n",
       "\n",
       "    .dataframe tbody tr th {\n",
       "        vertical-align: top;\n",
       "    }\n",
       "\n",
       "    .dataframe thead th {\n",
       "        text-align: right;\n",
       "    }\n",
       "</style>\n",
       "<table border=\"1\" class=\"dataframe\">\n",
       "  <thead>\n",
       "    <tr style=\"text-align: right;\">\n",
       "      <th></th>\n",
       "      <th>sentiment</th>\n",
       "      <th>platform</th>\n",
       "      <th>_id</th>\n",
       "      <th>sentimentLabel</th>\n",
       "      <th>keywords</th>\n",
       "      <th>tags</th>\n",
       "      <th>createdAt</th>\n",
       "    </tr>\n",
       "  </thead>\n",
       "  <tbody>\n",
       "    <tr>\n",
       "      <th>0</th>\n",
       "      <td>0.0000</td>\n",
       "      <td>Mastodon</td>\n",
       "      <td>mastodon_114475881798616829</td>\n",
       "      <td>neutral</td>\n",
       "      <td>[npr, https, rfk, info, alana]</td>\n",
       "      <td>[]</td>\n",
       "      <td>2025-05-09T04:01:46Z</td>\n",
       "    </tr>\n",
       "    <tr>\n",
       "      <th>1</th>\n",
       "      <td>0.2023</td>\n",
       "      <td>Mastodon</td>\n",
       "      <td>mastodon_114475876145381210</td>\n",
       "      <td>positive</td>\n",
       "      <td>[sudan, khartoum, healthcare, msf, scale-up]</td>\n",
       "      <td>[khartoum, sudan]</td>\n",
       "      <td>2025-05-09T04:00:45Z</td>\n",
       "    </tr>\n",
       "    <tr>\n",
       "      <th>2</th>\n",
       "      <td>-0.2960</td>\n",
       "      <td>Mastodon</td>\n",
       "      <td>mastodon_114475873718679095</td>\n",
       "      <td>negative</td>\n",
       "      <td>[common, french, commun, german, üblich]</td>\n",
       "      <td>[common]</td>\n",
       "      <td>2025-05-09T04:00:08Z</td>\n",
       "    </tr>\n",
       "    <tr>\n",
       "      <th>3</th>\n",
       "      <td>-0.7003</td>\n",
       "      <td>Mastodon</td>\n",
       "      <td>mastodon_114475870703741074</td>\n",
       "      <td>negative</td>\n",
       "      <td>[contaminated, sickening, history, outbreak, m...</td>\n",
       "      <td>[health, history, publichealth]</td>\n",
       "      <td>2025-05-09T03:59:12Z</td>\n",
       "    </tr>\n",
       "    <tr>\n",
       "      <th>4</th>\n",
       "      <td>0.5338</td>\n",
       "      <td>Mastodon</td>\n",
       "      <td>mastodon_114475870148273793</td>\n",
       "      <td>positive</td>\n",
       "      <td>[back, happy, companies, bringing, physical]</td>\n",
       "      <td>[ergonomics, carplay, androidauto, ux]</td>\n",
       "      <td>2025-05-09T03:59:10Z</td>\n",
       "    </tr>\n",
       "  </tbody>\n",
       "</table>\n",
       "</div>"
      ]
     },
     "execution_count": 17,
     "metadata": {},
     "output_type": "execute_result"
    }
   ],
   "execution_count": 17
  },
  {
   "metadata": {
    "ExecuteTime": {
     "end_time": "2025-05-09T04:04:42.118067Z",
     "start_time": "2025-05-09T04:04:41.208711Z"
    }
   },
   "cell_type": "code",
   "source": [
    "df[\"createdAt_clean\"] = (\n",
    "    df[\"createdAt\"]\n",
    "    .astype(str)\n",
    "    .str.replace(r\"\\+00:00Z$\", \"Z\", regex=True)\n",
    ")\n",
    "\n",
    "df[\"createdAt_dt\"] = pd.to_datetime(\n",
    "    df[\"createdAt_clean\"],\n",
    "    errors=\"coerce\",\n",
    "    utc=True\n",
    ")\n",
    "\n",
    "df_valid = df[df[\"createdAt_dt\"].notna()].copy()\n",
    "\n",
    "df_valid[\"month\"] = pd.to_datetime(df_valid[\"createdAt_dt\"].dt.strftime(\"%Y-%m\"))\n",
    "\n",
    "monthly_avg = df_valid.groupby(\"month\")[\"sentiment\"].mean()\n",
    "\n",
    "plt.figure(figsize=(10, 5))\n",
    "monthly_avg.plot(kind=\"bar\", color=\"skyblue\", title=\"Average Sentiment per Month\")\n",
    "plt.xlabel(\"Month\")\n",
    "plt.ylabel(\"Average Sentiment\")\n",
    "plt.xticks(rotation=45, ha=\"right\")\n",
    "plt.grid(axis=\"y\", linestyle=\"--\", alpha=0.4)\n",
    "plt.tight_layout()\n",
    "plt.show()"
   ],
   "id": "7d984e4f26b0ee7f",
   "outputs": [
    {
     "data": {
      "text/plain": [
       "<Figure size 1000x500 with 1 Axes>"
      ],
      "image/png": "[encoded data removed]"
     },
     "metadata": {},
     "output_type": "display_data"
    }
   ],
   "execution_count": 19
  },
  {
   "metadata": {
    "ExecuteTime": {
     "end_time": "2025-05-09T04:03:42.528241Z",
     "start_time": "2025-05-09T04:03:42.524780Z"
    }
   },
   "cell_type": "code",
   "source": "",
   "id": "592105cec0f9532d",
   "outputs": [],
   "execution_count": 18
  }
 ],
 "metadata": {
  "kernelspec": {
   "display_name": "Python 3",
   "language": "python",
   "name": "python3"
  },
  "language_info": {
   "codemirror_mode": {
    "name": "ipython",
    "version": 2
   },
   "file_extension": ".py",
   "mimetype": "text/x-python",
   "name": "python",
   "nbconvert_exporter": "python",
   "pygments_lexer": "ipython2",
   "version": "2.7.6"
  }
 },
 "nbformat": 4,
 "nbformat_minor": 5
}
