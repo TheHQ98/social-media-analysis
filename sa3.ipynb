{
 "cells": [
  {
   "cell_type": "code",
   "execution_count": 14,
   "id": "88974a1d",
   "metadata": {},
   "outputs": [],
   "source": [
    "import json\n",
    "import geopandas as gpd"
   ]
  },
  {
   "cell_type": "code",
   "execution_count": 15,
   "id": "04d4eef0",
   "metadata": {},
   "outputs": [],
   "source": [
    "output_json_path = 'sa3_names.json'\n",
    "shapefile_path = 'SA3_2021_AUST_SHP_GDA2020/SA3_2021_AUST_GDA2020.shp'"
   ]
  },
  {
   "cell_type": "code",
   "execution_count": null,
   "id": "6878a8ee",
   "metadata": {},
   "outputs": [],
   "source": [
    "gdf = gpd.read_file(shapefile_path)"
   ]
  },
  {
   "cell_type": "code",
   "execution_count": 13,
   "id": "b08fe162",
   "metadata": {},
   "outputs": [],
   "source": [
    "sa3_names = gdf['SA3_NAME21'].unique().tolist()\n",
    "sa3_names.sort() "
   ]
  },
  {
   "cell_type": "code",
   "execution_count": null,
   "id": "35e20387",
   "metadata": {},
   "outputs": [],
   "source": [
    "json_data = {\"sa3_names\": sa3_names}\n",
    "\n",
    "with open(output_json_path, 'w', encoding='utf-8') as f:\n",
    "    json.dump(json_data, f, ensure_ascii=False, indent=2)"
   ]
  }
 ],
 "metadata": {
  "kernelspec": {
   "display_name": "base",
   "language": "python",
   "name": "python3"
  },
  "language_info": {
   "codemirror_mode": {
    "name": "ipython",
    "version": 3
   },
   "file_extension": ".py",
   "mimetype": "text/x-python",
   "name": "python",
   "nbconvert_exporter": "python",
   "pygments_lexer": "ipython3",
   "version": "3.9.13"
  }
 },
 "nbformat": 4,
 "nbformat_minor": 5
}
